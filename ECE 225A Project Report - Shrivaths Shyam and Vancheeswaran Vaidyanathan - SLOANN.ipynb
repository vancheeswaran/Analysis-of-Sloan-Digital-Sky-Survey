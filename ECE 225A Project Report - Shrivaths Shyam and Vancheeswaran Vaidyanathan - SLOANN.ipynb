{
 "cells": [
  {
   "cell_type": "markdown",
   "id": "7e7344ca",
   "metadata": {},
   "source": [
    "# <center> Sloan Digital Sky Survey DR14 </center> "
   ]
  },
  {
   "cell_type": "markdown",
   "id": "17fbe518",
   "metadata": {},
   "source": [
    "### <center> Shrivaths Shyam (A59019544) and Vancheeswaran Vaidyanathan (A59011835) </center>"
   ]
  },
  {
   "cell_type": "markdown",
   "id": "9fab75a0",
   "metadata": {},
   "source": [
    "## <a id=\"TOC\"> Table of Contents </a>\n",
    "</br>\n",
    "<div style=\"text-align: justify; font-size: 16px\">\n",
    "<ol> <li> <a href=\"#Intro\"> Introduction </a> </li>\n",
    "    <li> <a href=\"#Back\"> Background </a> </li>\n",
    "    <li> <a href=\"#Libs\"> Importing Libraries </a>  </li> \n",
    "    <li> <a href=\"#EDA\"> Exploratory Data Analysis </a>  </li>\n",
    "    <li> <a href=\"#DataW\"> Data Wrangling </a> </li>\n",
    "    <li> <a href=\"#BuildModel\"> Build Models </a> </li>\n",
    "    <li> <a href=\"#Metrics\"> Metrics </a> </li>\n",
    "    <li> <a href=\"#infer\"> Inferences </a> </li>\n",
    "    <li> <a href=\"#Conclusion\"> Conclusion </a> </li>\n",
    "    <li> <a href=\"#Ref\"> References </a> </li>\n",
    "    </ol>\n",
    "</div>"
   ]
  },
  {
   "cell_type": "markdown",
   "id": "5f60eb5a",
   "metadata": {},
   "source": [
    "##   <a id=\"Intro\"> Introduction </a>"
   ]
  },
  {
   "cell_type": "markdown",
   "id": "95445a6b",
   "metadata": {},
   "source": [
    "<div style=\"text-align: justify; font-size: 16px\"> In this project we use <B> Sloan Digital Sky Survey </B> dataset from Kaggle. This dataset has <B>17 feature columns </B> and one column that needs to be predicted. The column that needs to be predicted is called <B> \"class\" </B> which is one of <B> star, quasar or galaxy </B>. We perform data cleaning, feature engineering, EDA and some visualisations in order to know more about the data. Post this, we apply Machine Learning algorithms such as <B> Logistic Regression, Decision Tree Classifier, XGBoost and Random Forest </B> to solve the classification problem. Once the algorithms are implemented we compare the performance of the various algorithms based on metrics such as <B> confusion matrix, accuracy,  AUC-ROC, F1 Score and Log Loss</B>. </div>"
   ]
  },
  {
   "cell_type": "markdown",
   "id": "be8ac482",
   "metadata": {},
   "source": [
    "## <a id=\"Back\"> Background </a>"
   ]
  },
  {
   "cell_type": "markdown",
   "id": "9b0f3af5",
   "metadata": {},
   "source": [
    "<div style=\"text-align: justify; font-size: 16px\"> <B> SDSS </B> (Sloan Digital Sky Survey) is a multispectral imaging and redhift survey that was started in 2000 at <B> Apache Point Observatory in New Mexico, United States</B>. It uses a combination of multi array CCD Camera and multi fiber spectrograph to generate the characteristics of various objects in the sky. The data contains values such as <B> run, camcol and field </B>that helps in uniquely identifying a field, which is a fundamental unit of the images from the SDSS. It also provides spectroscopic information through the features <B> u, g, r, i and z </B>. More information on how the data was obtained and the decription of the data can be found <a href=\"http://www.sdss3.org/dr9/imaging/imaging_basics.php\"> here </a>  </div>"
   ]
  },
  {
   "cell_type": "markdown",
   "id": "2795e488",
   "metadata": {},
   "source": [
    "## <a id=\"Libs\"> Import libraries </a>"
   ]
  },
  {
   "cell_type": "code",
   "execution_count": 1,
   "id": "539dc4d3",
   "metadata": {},
   "outputs": [
    {
     "name": "stdout",
     "output_type": "stream",
     "text": [
      "Requirement already satisfied: xgboost in ./opt/anaconda3/lib/python3.9/site-packages (1.7.1)\n",
      "Requirement already satisfied: scipy in ./opt/anaconda3/lib/python3.9/site-packages (from xgboost) (1.7.3)\n",
      "Requirement already satisfied: numpy in ./opt/anaconda3/lib/python3.9/site-packages (from xgboost) (1.21.5)\n",
      "Requirement already satisfied: graphviz in ./opt/anaconda3/lib/python3.9/site-packages (0.20.1)\n"
     ]
    }
   ],
   "source": [
    "import pandas as pd\n",
    "import numpy as np\n",
    "from sklearn.preprocessing import StandardScaler\n",
    "from sklearn.model_selection import train_test_split\n",
    "from sklearn.preprocessing import LabelEncoder\n",
    "\n",
    "from sklearn.linear_model import LogisticRegression\n",
    "from sklearn.ensemble import RandomForestClassifier\n",
    "from sklearn.tree import DecisionTreeClassifier\n",
    "!pip3 install xgboost\n",
    "from xgboost import XGBClassifier\n",
    "\n",
    "from sklearn.metrics import confusion_matrix\n",
    "from sklearn.metrics import log_loss\n",
    "from sklearn.metrics import accuracy_score\n",
    "from sklearn.metrics import roc_auc_score\n",
    "from sklearn.metrics import f1_score\n",
    "\n",
    "import seaborn as sns\n",
    "import matplotlib.pyplot as plt\n",
    "from sklearn import tree\n",
    "!pip3 install graphviz\n",
    "import graphviz "
   ]
  },
  {
   "cell_type": "markdown",
   "id": "c5dd1381",
   "metadata": {},
   "source": [
    "## <a id=\"EDA\"> Exploratory Data Analysis </a>"
   ]
  },
  {
   "cell_type": "markdown",
   "id": "312eec0d",
   "metadata": {},
   "source": [
    "\n",
    "<div style=\"text-align: justify;font-size: 16px\"> We first perform Exploratory Data Analysis on the data to find patterns and distribution of the data. Here we first load the data from the CSV file to a pandas DataFrame and plot graphs that gives a visual representation of the data.</div>"
   ]
  },
  {
   "cell_type": "code",
   "execution_count": 2,
   "id": "b94d3ab7",
   "metadata": {},
   "outputs": [],
   "source": [
    "# Load Dataset\n",
    "sdss=pd.read_csv(\"SDSS.csv\")"
   ]
  },
  {
   "cell_type": "code",
   "execution_count": 3,
   "id": "a536c40e",
   "metadata": {
    "scrolled": true
   },
   "outputs": [
    {
     "data": {
      "text/html": [
       "<div>\n",
       "<style scoped>\n",
       "    .dataframe tbody tr th:only-of-type {\n",
       "        vertical-align: middle;\n",
       "    }\n",
       "\n",
       "    .dataframe tbody tr th {\n",
       "        vertical-align: top;\n",
       "    }\n",
       "\n",
       "    .dataframe thead th {\n",
       "        text-align: right;\n",
       "    }\n",
       "</style>\n",
       "<table border=\"1\" class=\"dataframe\">\n",
       "  <thead>\n",
       "    <tr style=\"text-align: right;\">\n",
       "      <th></th>\n",
       "      <th>objid</th>\n",
       "      <th>ra</th>\n",
       "      <th>dec</th>\n",
       "      <th>u</th>\n",
       "      <th>g</th>\n",
       "      <th>r</th>\n",
       "      <th>i</th>\n",
       "      <th>z</th>\n",
       "      <th>run</th>\n",
       "      <th>rerun</th>\n",
       "      <th>camcol</th>\n",
       "      <th>field</th>\n",
       "      <th>specobjid</th>\n",
       "      <th>class</th>\n",
       "      <th>redshift</th>\n",
       "      <th>plate</th>\n",
       "      <th>mjd</th>\n",
       "      <th>fiberid</th>\n",
       "    </tr>\n",
       "  </thead>\n",
       "  <tbody>\n",
       "    <tr>\n",
       "      <th>0</th>\n",
       "      <td>1.237650e+18</td>\n",
       "      <td>183.531326</td>\n",
       "      <td>0.089693</td>\n",
       "      <td>19.47406</td>\n",
       "      <td>17.04240</td>\n",
       "      <td>15.94699</td>\n",
       "      <td>15.50342</td>\n",
       "      <td>15.22531</td>\n",
       "      <td>752</td>\n",
       "      <td>301</td>\n",
       "      <td>4</td>\n",
       "      <td>267</td>\n",
       "      <td>3.722360e+18</td>\n",
       "      <td>STAR</td>\n",
       "      <td>-0.000009</td>\n",
       "      <td>3306</td>\n",
       "      <td>54922</td>\n",
       "      <td>491</td>\n",
       "    </tr>\n",
       "    <tr>\n",
       "      <th>1</th>\n",
       "      <td>1.237650e+18</td>\n",
       "      <td>183.598370</td>\n",
       "      <td>0.135285</td>\n",
       "      <td>18.66280</td>\n",
       "      <td>17.21449</td>\n",
       "      <td>16.67637</td>\n",
       "      <td>16.48922</td>\n",
       "      <td>16.39150</td>\n",
       "      <td>752</td>\n",
       "      <td>301</td>\n",
       "      <td>4</td>\n",
       "      <td>267</td>\n",
       "      <td>3.638140e+17</td>\n",
       "      <td>STAR</td>\n",
       "      <td>-0.000055</td>\n",
       "      <td>323</td>\n",
       "      <td>51615</td>\n",
       "      <td>541</td>\n",
       "    </tr>\n",
       "    <tr>\n",
       "      <th>2</th>\n",
       "      <td>1.237650e+18</td>\n",
       "      <td>183.680207</td>\n",
       "      <td>0.126185</td>\n",
       "      <td>19.38298</td>\n",
       "      <td>18.19169</td>\n",
       "      <td>17.47428</td>\n",
       "      <td>17.08732</td>\n",
       "      <td>16.80125</td>\n",
       "      <td>752</td>\n",
       "      <td>301</td>\n",
       "      <td>4</td>\n",
       "      <td>268</td>\n",
       "      <td>3.232740e+17</td>\n",
       "      <td>GALAXY</td>\n",
       "      <td>0.123111</td>\n",
       "      <td>287</td>\n",
       "      <td>52023</td>\n",
       "      <td>513</td>\n",
       "    </tr>\n",
       "    <tr>\n",
       "      <th>3</th>\n",
       "      <td>1.237650e+18</td>\n",
       "      <td>183.870529</td>\n",
       "      <td>0.049911</td>\n",
       "      <td>17.76536</td>\n",
       "      <td>16.60272</td>\n",
       "      <td>16.16116</td>\n",
       "      <td>15.98233</td>\n",
       "      <td>15.90438</td>\n",
       "      <td>752</td>\n",
       "      <td>301</td>\n",
       "      <td>4</td>\n",
       "      <td>269</td>\n",
       "      <td>3.722370e+18</td>\n",
       "      <td>STAR</td>\n",
       "      <td>-0.000111</td>\n",
       "      <td>3306</td>\n",
       "      <td>54922</td>\n",
       "      <td>510</td>\n",
       "    </tr>\n",
       "    <tr>\n",
       "      <th>4</th>\n",
       "      <td>1.237650e+18</td>\n",
       "      <td>183.883288</td>\n",
       "      <td>0.102557</td>\n",
       "      <td>17.55025</td>\n",
       "      <td>16.26342</td>\n",
       "      <td>16.43869</td>\n",
       "      <td>16.55492</td>\n",
       "      <td>16.61326</td>\n",
       "      <td>752</td>\n",
       "      <td>301</td>\n",
       "      <td>4</td>\n",
       "      <td>269</td>\n",
       "      <td>3.722370e+18</td>\n",
       "      <td>STAR</td>\n",
       "      <td>0.000590</td>\n",
       "      <td>3306</td>\n",
       "      <td>54922</td>\n",
       "      <td>512</td>\n",
       "    </tr>\n",
       "    <tr>\n",
       "      <th>5</th>\n",
       "      <td>1.237650e+18</td>\n",
       "      <td>183.847174</td>\n",
       "      <td>0.173694</td>\n",
       "      <td>19.43133</td>\n",
       "      <td>18.46779</td>\n",
       "      <td>18.16451</td>\n",
       "      <td>18.01475</td>\n",
       "      <td>18.04155</td>\n",
       "      <td>752</td>\n",
       "      <td>301</td>\n",
       "      <td>4</td>\n",
       "      <td>269</td>\n",
       "      <td>3.649550e+17</td>\n",
       "      <td>STAR</td>\n",
       "      <td>0.000315</td>\n",
       "      <td>324</td>\n",
       "      <td>51666</td>\n",
       "      <td>594</td>\n",
       "    </tr>\n",
       "    <tr>\n",
       "      <th>6</th>\n",
       "      <td>1.237650e+18</td>\n",
       "      <td>183.864379</td>\n",
       "      <td>0.019201</td>\n",
       "      <td>19.38322</td>\n",
       "      <td>17.88995</td>\n",
       "      <td>17.10537</td>\n",
       "      <td>16.66393</td>\n",
       "      <td>16.36955</td>\n",
       "      <td>752</td>\n",
       "      <td>301</td>\n",
       "      <td>4</td>\n",
       "      <td>269</td>\n",
       "      <td>3.232870e+17</td>\n",
       "      <td>GALAXY</td>\n",
       "      <td>0.100242</td>\n",
       "      <td>287</td>\n",
       "      <td>52023</td>\n",
       "      <td>559</td>\n",
       "    </tr>\n",
       "    <tr>\n",
       "      <th>7</th>\n",
       "      <td>1.237650e+18</td>\n",
       "      <td>183.900081</td>\n",
       "      <td>0.187473</td>\n",
       "      <td>18.97993</td>\n",
       "      <td>17.84496</td>\n",
       "      <td>17.38022</td>\n",
       "      <td>17.20673</td>\n",
       "      <td>17.07071</td>\n",
       "      <td>752</td>\n",
       "      <td>301</td>\n",
       "      <td>4</td>\n",
       "      <td>269</td>\n",
       "      <td>3.722370e+18</td>\n",
       "      <td>STAR</td>\n",
       "      <td>0.000315</td>\n",
       "      <td>3306</td>\n",
       "      <td>54922</td>\n",
       "      <td>515</td>\n",
       "    </tr>\n",
       "  </tbody>\n",
       "</table>\n",
       "</div>"
      ],
      "text/plain": [
       "          objid          ra       dec         u         g         r         i  \\\n",
       "0  1.237650e+18  183.531326  0.089693  19.47406  17.04240  15.94699  15.50342   \n",
       "1  1.237650e+18  183.598370  0.135285  18.66280  17.21449  16.67637  16.48922   \n",
       "2  1.237650e+18  183.680207  0.126185  19.38298  18.19169  17.47428  17.08732   \n",
       "3  1.237650e+18  183.870529  0.049911  17.76536  16.60272  16.16116  15.98233   \n",
       "4  1.237650e+18  183.883288  0.102557  17.55025  16.26342  16.43869  16.55492   \n",
       "5  1.237650e+18  183.847174  0.173694  19.43133  18.46779  18.16451  18.01475   \n",
       "6  1.237650e+18  183.864379  0.019201  19.38322  17.88995  17.10537  16.66393   \n",
       "7  1.237650e+18  183.900081  0.187473  18.97993  17.84496  17.38022  17.20673   \n",
       "\n",
       "          z  run  rerun  camcol  field     specobjid   class  redshift  plate  \\\n",
       "0  15.22531  752    301       4    267  3.722360e+18    STAR -0.000009   3306   \n",
       "1  16.39150  752    301       4    267  3.638140e+17    STAR -0.000055    323   \n",
       "2  16.80125  752    301       4    268  3.232740e+17  GALAXY  0.123111    287   \n",
       "3  15.90438  752    301       4    269  3.722370e+18    STAR -0.000111   3306   \n",
       "4  16.61326  752    301       4    269  3.722370e+18    STAR  0.000590   3306   \n",
       "5  18.04155  752    301       4    269  3.649550e+17    STAR  0.000315    324   \n",
       "6  16.36955  752    301       4    269  3.232870e+17  GALAXY  0.100242    287   \n",
       "7  17.07071  752    301       4    269  3.722370e+18    STAR  0.000315   3306   \n",
       "\n",
       "     mjd  fiberid  \n",
       "0  54922      491  \n",
       "1  51615      541  \n",
       "2  52023      513  \n",
       "3  54922      510  \n",
       "4  54922      512  \n",
       "5  51666      594  \n",
       "6  52023      559  \n",
       "7  54922      515  "
      ]
     },
     "execution_count": 3,
     "metadata": {},
     "output_type": "execute_result"
    }
   ],
   "source": [
    "#Take a peek at the data\n",
    "sdss.head(8)"
   ]
  },
  {
   "cell_type": "markdown",
   "id": "6861b86b",
   "metadata": {},
   "source": [
    "### Distribution of the Data based on the classes(Star, Galaxy, Quasar)"
   ]
  },
  {
   "cell_type": "markdown",
   "id": "4b689ece",
   "metadata": {},
   "source": [
    "<div style=\"text-align: justify; font-size: 16px\">\n",
    "    <p>Now we are plotting the distribution of the classes in the data. Here we have used the countplot function from the Seaborn module to count the number of rows that are present in the data for each class.</p>\n",
    "    <p>As we can see from the graph below, there are more rows of data for Galaxy with almost 5000 rows of data, followed closely behind by the Star class at around 4000 rows while there is least number of rows for the Quasar(QSO) class.</p>\n",
    "</div>"
   ]
  },
  {
   "cell_type": "code",
   "execution_count": 4,
   "id": "27e2aa16",
   "metadata": {},
   "outputs": [
    {
     "data": {
      "text/plain": [
       "<AxesSubplot:xlabel='class', ylabel='count'>"
      ]
     },
     "execution_count": 4,
     "metadata": {},
     "output_type": "execute_result"
    },
    {
     "data": {
      "image/png": "[encoded data removed]",
      "text/plain": [
       "<Figure size 432x288 with 1 Axes>"
      ]
     },
     "metadata": {
      "needs_background": "light"
     },
     "output_type": "display_data"
    }
   ],
   "source": [
    "# Let's check how the data is distributed across various classes\n",
    "sns.countplot(data=sdss,x=\"class\")"
   ]
  },
  {
   "cell_type": "markdown",
   "id": "98410847",
   "metadata": {},
   "source": [
    "### Histograms of features"
   ]
  },
  {
   "cell_type": "markdown",
   "id": "a0716e17",
   "metadata": {},
   "source": [
    "<div style=\"text-align: justify; font-size: 16px\">\n",
    "    <p>Let us now look at how each of the features (redshift, ra, dec, u, g, r, i, z) are distributed across the different classes. We have used the histplot function from the Seaborn module in Python with bin count of 30 to count the number of rows for each of the classes in the data.</p>\n",
    "</div>"
   ]
  },
  {
   "cell_type": "markdown",
   "id": "92ba5dbe",
   "metadata": {},
   "source": [
    "#### Redshift"
   ]
  },
  {
   "cell_type": "markdown",
   "id": "1f77a961",
   "metadata": {},
   "source": [
    "<div style=\"text-align: justify; font-size: 16px\">\n",
    "    <p>From the graph, we can observe that the distributions looks similar to a gaussian for the Star class with the values smaller and most values close to or equal to zero. The redshift for the Galaxy classes are also close to zero with all values greater than or equal to zero. Unlike the Star and Galaxy classes, the Quasar class has a widely distributed values for the redshift. </p>\n",
    "</div>"
   ]
  },
  {
   "cell_type": "code",
   "execution_count": 5,
   "id": "24560ea3",
   "metadata": {},
   "outputs": [
    {
     "data": {
      "image/png": "[encoded data removed]",
      "text/plain": [
       "<Figure size 1152x288 with 3 Axes>"
      ]
     },
     "metadata": {
      "needs_background": "light"
     },
     "output_type": "display_data"
    }
   ],
   "source": [
    "# Plotting redshift distribution over various classes\n",
    "\n",
    "fig, axes = plt.subplots(nrows=1, ncols=3,figsize=(16, 4))\n",
    "ax = sns.histplot(sdss[sdss['class']=='STAR'].redshift, bins=30, ax = axes[0])\n",
    "ax.set_title('Star')\n",
    "ax = sns.histplot(sdss[sdss['class']=='GALAXY'].redshift, bins=30, ax = axes[1])\n",
    "ax.set_title('Galaxy')\n",
    "ax = sns.histplot(sdss[sdss['class']=='QSO'].redshift, bins=30, ax = axes[2])\n",
    "ax = ax.set_title('QSO')"
   ]
  },
  {
   "cell_type": "markdown",
   "id": "d1e92717",
   "metadata": {},
   "source": [
    "#### RA (right ascension)"
   ]
  },
  {
   "cell_type": "markdown",
   "id": "ca47f737",
   "metadata": {},
   "source": [
    "<div style=\"text-align: justify; font-size: 16px\">\n",
    "    <p>From the plots, we can observe that the distributions for the ra (right ascension) column for all the classes are distributed similarly with some values that are far away from the majority values and the values are greater than zero.</p>\n",
    "</div>"
   ]
  },
  {
   "cell_type": "code",
   "execution_count": 6,
   "id": "9fd2ff21",
   "metadata": {},
   "outputs": [
    {
     "data": {
      "image/png": "[encoded data removed]",
      "text/plain": [
       "<Figure size 1152x288 with 3 Axes>"
      ]
     },
     "metadata": {
      "needs_background": "light"
     },
     "output_type": "display_data"
    }
   ],
   "source": [
    "# Plotting ra(right ascension) distribution over various classes\n",
    "\n",
    "fig, axes = plt.subplots(nrows=1, ncols=3,figsize=(16, 4))\n",
    "ax = sns.histplot(sdss[sdss['class']=='STAR'].ra, bins=30, ax = axes[0])\n",
    "ax.set_title('Star')\n",
    "ax = sns.histplot(sdss[sdss['class']=='GALAXY'].ra, bins=30, ax = axes[1])\n",
    "ax.set_title('Galaxy')\n",
    "ax = sns.histplot(sdss[sdss['class']=='QSO'].ra, bins=30, ax = axes[2])\n",
    "ax = ax.set_title('QSO')"
   ]
  },
  {
   "cell_type": "markdown",
   "id": "0d008971",
   "metadata": {},
   "source": [
    "#### DEC (Declination)"
   ]
  },
  {
   "cell_type": "markdown",
   "id": "d1596586",
   "metadata": {},
   "source": [
    "<div style=\"text-align: justify; font-size: 16px\">\n",
    "    <p>From the graphs below, we can observe that the distributions for the dec (declination) column for all the classes are distributed sparsely with most of the values equal to zero. The range of the values is also large compared to other features.</p>\n",
    "</div>"
   ]
  },
  {
   "cell_type": "code",
   "execution_count": 7,
   "id": "b61632a8",
   "metadata": {},
   "outputs": [
    {
     "data": {
      "image/png": "[encoded data removed]",
      "text/plain": [
       "<Figure size 1152x288 with 3 Axes>"
      ]
     },
     "metadata": {
      "needs_background": "light"
     },
     "output_type": "display_data"
    }
   ],
   "source": [
    "# Plotting dec (declination) distribution over various classes\n",
    "\n",
    "fig, axes = plt.subplots(nrows=1, ncols=3,figsize=(16, 4))\n",
    "ax = sns.histplot(sdss[sdss['class']=='STAR'].dec, bins=30, ax = axes[0])\n",
    "ax.set_title('Star')\n",
    "ax = sns.histplot(sdss[sdss['class']=='GALAXY'].dec, bins=30, ax = axes[1])\n",
    "ax.set_title('Galaxy')\n",
    "ax = sns.histplot(sdss[sdss['class']=='QSO'].dec, bins=30, ax = axes[2])\n",
    "ax = ax.set_title('QSO')"
   ]
  },
  {
   "cell_type": "markdown",
   "id": "bc54e5fc",
   "metadata": {},
   "source": [
    "#### U (ultraviolet band)"
   ]
  },
  {
   "cell_type": "markdown",
   "id": "a9e0d71e",
   "metadata": {},
   "source": [
    "<div style=\"text-align: justify; font-size: 16px\">\n",
    "    <p>From the plots, we can observe that the distributions for the <strong>u</strong> column for all the classes are distributed similarly with the count of the values increasing as the u value increases. All the values are greater than zero. </p>\n",
    "</div>"
   ]
  },
  {
   "cell_type": "code",
   "execution_count": 8,
   "id": "00656880",
   "metadata": {},
   "outputs": [
    {
     "data": {
      "image/png": "[encoded data removed]",
      "text/plain": [
       "<Figure size 1152x288 with 3 Axes>"
      ]
     },
     "metadata": {
      "needs_background": "light"
     },
     "output_type": "display_data"
    }
   ],
   "source": [
    "# Plotting u distribution over various classes\n",
    "\n",
    "fig, axes = plt.subplots(nrows=1, ncols=3,figsize=(16, 4))\n",
    "ax = sns.histplot(sdss[sdss['class']=='STAR'].u, bins=30, ax = axes[0])\n",
    "ax.set_title('Star')\n",
    "ax = sns.histplot(sdss[sdss['class']=='GALAXY'].u, bins=30, ax = axes[1])\n",
    "ax.set_title('Galaxy')\n",
    "ax = sns.histplot(sdss[sdss['class']=='QSO'].u, bins=30, ax = axes[2])\n",
    "ax = ax.set_title('QSO')"
   ]
  },
  {
   "cell_type": "markdown",
   "id": "7e28aec6",
   "metadata": {},
   "source": [
    "#### G (green band)"
   ]
  },
  {
   "cell_type": "markdown",
   "id": "28ad163b",
   "metadata": {},
   "source": [
    "<div style=\"text-align: justify; font-size: 16px\">\n",
    "    <p>From the plots, we can observe that the distributions for the <strong>g</strong> column for all the classes are distributed similarly with the count of the values increasing as the g value increases. All the values are greater than zero with the distribution for the star class wider compared to the other two classes.</p>\n",
    "</div>"
   ]
  },
  {
   "cell_type": "code",
   "execution_count": 9,
   "id": "6d1121d3",
   "metadata": {
    "scrolled": true
   },
   "outputs": [
    {
     "data": {
      "image/png": "[encoded data removed]",
      "text/plain": [
       "<Figure size 1152x288 with 3 Axes>"
      ]
     },
     "metadata": {
      "needs_background": "light"
     },
     "output_type": "display_data"
    }
   ],
   "source": [
    "# Plotting g distribution over various classes\n",
    "\n",
    "fig, axes = plt.subplots(nrows=1, ncols=3,figsize=(16, 4))\n",
    "ax = sns.histplot(sdss[sdss['class']=='STAR'].g, bins = 30, ax = axes[0])\n",
    "ax.set_title('Star')\n",
    "ax = sns.histplot(sdss[sdss['class']=='GALAXY'].g, bins = 30, ax = axes[1])\n",
    "ax.set_title('Galaxy')\n",
    "ax = sns.histplot(sdss[sdss['class']=='QSO'].g, bins = 30, ax = axes[2])\n",
    "ax = ax.set_title('QSO')"
   ]
  },
  {
   "cell_type": "markdown",
   "id": "65b89829",
   "metadata": {},
   "source": [
    "#### R (red band)"
   ]
  },
  {
   "cell_type": "markdown",
   "id": "b8d9000f",
   "metadata": {},
   "source": [
    "<div style=\"text-align: justify; font-size: 16px\">\n",
    "    <p>From the plots, we can observe that the distributions for the <strong>r</strong> column for all the classes look similar to gaussian. The values of Quasar class is more widely distributed than the other two classes.</p>\n",
    "</div>"
   ]
  },
  {
   "cell_type": "code",
   "execution_count": 10,
   "id": "d2cfe0d3",
   "metadata": {},
   "outputs": [
    {
     "data": {
      "image/png": "[encoded data removed]",
      "text/plain": [
       "<Figure size 1152x288 with 3 Axes>"
      ]
     },
     "metadata": {
      "needs_background": "light"
     },
     "output_type": "display_data"
    }
   ],
   "source": [
    "# Plotting r distribution over various classes\n",
    "\n",
    "fig, axes = plt.subplots(nrows=1, ncols=3,figsize=(16, 4))\n",
    "ax = sns.histplot(sdss[sdss['class']=='STAR'].r, bins = 30, ax = axes[0])\n",
    "ax.set_title('Star')\n",
    "ax = sns.histplot(sdss[sdss['class']=='GALAXY'].r, bins = 30, ax = axes[1])\n",
    "ax.set_title('Galaxy')\n",
    "ax = sns.histplot(sdss[sdss['class']=='QSO'].r, bins = 30, ax = axes[2])\n",
    "ax = ax.set_title('QSO')"
   ]
  },
  {
   "cell_type": "markdown",
   "id": "8d81451f",
   "metadata": {},
   "source": [
    "#### I (infrared band)"
   ]
  },
  {
   "cell_type": "markdown",
   "id": "7f1c59ef",
   "metadata": {},
   "source": [
    "<div style=\"text-align: justify; font-size: 16px\">\n",
    "    <p>From the plots, we can observe that the distributions for the <strong>i</strong> column for all the classes look similar to gaussian where the Quasar values more towards 19 while Star and Galaxy have their majority values around 16.</p>\n",
    "</div>"
   ]
  },
  {
   "cell_type": "code",
   "execution_count": 11,
   "id": "1cb2a7b5",
   "metadata": {
    "scrolled": true
   },
   "outputs": [
    {
     "data": {
      "image/png": "[encoded data removed]",
      "text/plain": [
       "<Figure size 1152x288 with 3 Axes>"
      ]
     },
     "metadata": {
      "needs_background": "light"
     },
     "output_type": "display_data"
    }
   ],
   "source": [
    "# Plotting i distribution over various classes\n",
    "\n",
    "fig, axes = plt.subplots(nrows=1, ncols=3,figsize=(16, 4))\n",
    "ax = sns.histplot(sdss[sdss['class']=='STAR'].i, bins = 30, ax = axes[0])\n",
    "ax.set_title('Star')\n",
    "ax = sns.histplot(sdss[sdss['class']=='GALAXY'].i, bins = 30, ax = axes[1])\n",
    "ax.set_title('Galaxy')\n",
    "ax = sns.histplot(sdss[sdss['class']=='QSO'].i, bins = 30, ax = axes[2])\n",
    "ax = ax.set_title('QSO')"
   ]
  },
  {
   "cell_type": "markdown",
   "id": "1978859f",
   "metadata": {},
   "source": [
    "#### Z (near-infrared band)"
   ]
  },
  {
   "cell_type": "markdown",
   "id": "5244db88",
   "metadata": {},
   "source": [
    "<div style=\"text-align: justify; font-size: 16px\">\n",
    "    <p>From the plots, we can observe that the distributions for the <strong>z</strong> column for all the classes look similar to gaussian. The z values for the Star class is much wider than Galaxy and Quasar classes.</p>\n",
    "</div>"
   ]
  },
  {
   "cell_type": "code",
   "execution_count": 12,
   "id": "4f53d2ee",
   "metadata": {},
   "outputs": [
    {
     "data": {
      "image/png": "[encoded data removed]",
      "text/plain": [
       "<Figure size 1152x288 with 3 Axes>"
      ]
     },
     "metadata": {
      "needs_background": "light"
     },
     "output_type": "display_data"
    }
   ],
   "source": [
    "fig, axes = plt.subplots(nrows=1, ncols=3,figsize=(16, 4))\n",
    "ax = sns.histplot(sdss[sdss['class']=='STAR'].z, bins = 30, ax = axes[0])\n",
    "ax.set_title('Star')\n",
    "ax = sns.histplot(sdss[sdss['class']=='GALAXY'].z, bins = 30, ax = axes[1])\n",
    "ax.set_title('Galaxy')\n",
    "ax = sns.histplot(sdss[sdss['class']=='QSO'].z, bins = 30, ax = axes[2])\n",
    "ax = ax.set_title('QSO')"
   ]
  },
  {
   "cell_type": "markdown",
   "id": "a0720d7e",
   "metadata": {},
   "source": [
    "## Correlation between the features"
   ]
  },
  {
   "cell_type": "markdown",
   "id": "77b942af",
   "metadata": {},
   "source": [
    "<div style=\"text-align: justify; font-size: 16px\">\n",
    "    <p>Now we try to find the relations between the different feature columns by calculating the correlation coefficients using the Pearson Correlation Coefficient. The coefficient is calculated using the below formula:</p>\n",
    "    <p style = \"text-align: center; font-size: 20px\">$\\rho = \\frac{\\text{cov}(X,Y)}{\\sigma_x \\sigma_y}$</p>\n",
    "    <p> Where the values of x and y are from the columns that are under consideration. The estimated value of the correlation between the columns is given by,</p>\n",
    "    <p style = \"text-align: center; font-size: 20px\">$r = \\frac{{}\\sum_{i=1}^{n} (x_i - \\overline{x})(y_i - \\overline{y})}\n",
    "{\\sqrt{\\sum_{i=1}^{n} (x_i - \\overline{x})^2(y_i - \\overline{y})^2}}$</p>\n",
    "    <p> where $\\overline{x}$ and $\\overline{y}$ are the means of the columns that are under consideration. The range of the correlation coefficient is between -1 and 1, where 1 represents maximum positive correlation (when one variable increases  and causes the other variable also to increase) and -1 signifies maximum negative correlation (when one variable decreases  and causes the other variable also to decrease) while 0 means they are uncorrelated.</p>\n",
    "    <h5> Inference from Correlation Maps </h5>\n",
    "    <p>The correlation maps ploted below represents how correlated the features are, where darker the red of the block, more positively correlated are the columns, while the darker the blue of the block represents how less or negatively correlated they are. This can also be observed in the legend that is provided with the maps.</p>\n",
    "    <p>From the maps we can notice that all the features are positively correlated as all the values are positive, with the u, g, r, i, z features being the most positively correlated.</p>\n",
    "    <p>The redshift, dec and ra features are least correlated with the u, g, r, i, z features of the data for the Galaxy and Quasar class while they are more correlated (comparative) for the Star class.</p>\n",
    "    <p>Note: Since a variable has maximum correlation with itself the diagonal blocks of the correlation map is the darkest red, indicating maximum positive correlation.</p>\n",
    "</div>"
   ]
  },
  {
   "cell_type": "code",
   "execution_count": 13,
   "id": "fd19fb5b",
   "metadata": {},
   "outputs": [
    {
     "data": {
      "image/png": "[encoded data removed]",
      "text/plain": [
       "<Figure size 1600x400 with 6 Axes>"
      ]
     },
     "metadata": {
      "needs_background": "light"
     },
     "output_type": "display_data"
    }
   ],
   "source": [
    "# Plotting the correlation between u, g, r, i, z, redshift, dec and ra feature columns\n",
    "\n",
    "fig, axes = plt.subplots(nrows=1, ncols=3,figsize=(16, 4))\n",
    "fig.set_dpi(100)\n",
    "ax = sns.heatmap(sdss[sdss['class']=='STAR'][['u', 'g', 'r', 'i', 'z','redshift','dec','ra']].corr(), ax = axes[0], cmap='coolwarm')\n",
    "ax.set_title('Star')\n",
    "ax = sns.heatmap(sdss[sdss['class']=='GALAXY'][['u', 'g', 'r', 'i', 'z','redshift','dec','ra']].corr(), ax = axes[1], cmap='coolwarm')\n",
    "ax.set_title('Galaxy')\n",
    "ax = sns.heatmap(sdss[sdss['class']=='QSO'][['u', 'g', 'r', 'i', 'z','redshift','dec','ra']].corr(), ax = axes[2], cmap='coolwarm')\n",
    "ax = ax.set_title('QSO')"
   ]
  },
  {
   "cell_type": "markdown",
   "id": "debece37",
   "metadata": {},
   "source": [
    "## <a id=\"DataW\"> Data Wrangling </a>"
   ]
  },
  {
   "cell_type": "code",
   "execution_count": 14,
   "id": "3cae1b11",
   "metadata": {},
   "outputs": [],
   "source": [
    "# Deleting columns that clearly might not have any impact on the class\n",
    "sdss=sdss.drop(['objid', 'run', 'rerun', 'camcol', 'field', 'specobjid','fiberid'], axis=1)"
   ]
  },
  {
   "cell_type": "code",
   "execution_count": 15,
   "id": "14ae44b6",
   "metadata": {},
   "outputs": [],
   "source": [
    "encoder= LabelEncoder()\n",
    "pred=encoder.fit_transform(sdss['class'])\n",
    "sdss=sdss.drop(['class'],axis=1)"
   ]
  },
  {
   "cell_type": "code",
   "execution_count": 16,
   "id": "8a10b38d",
   "metadata": {},
   "outputs": [],
   "source": [
    "scaler = StandardScaler()"
   ]
  },
  {
   "cell_type": "code",
   "execution_count": 17,
   "id": "308eb866",
   "metadata": {},
   "outputs": [],
   "source": [
    "sdss_columns=sdss.columns\n",
    "sdss=scaler.fit_transform(sdss)"
   ]
  },
  {
   "cell_type": "code",
   "execution_count": 18,
   "id": "6b10395b",
   "metadata": {},
   "outputs": [
    {
     "data": {
      "text/plain": [
       "array([[ 0.16745842, -0.58492272,  1.03148637, ..., -0.36973112,\n",
       "         1.03148936,  1.30931064],\n",
       "       [ 0.16886159, -0.58311429,  0.05243046, ..., -0.36984929,\n",
       "        -0.63621258, -0.87919741],\n",
       "       [ 0.17057433, -0.58347525,  0.92156796, ..., -0.05302706,\n",
       "        -0.65633905, -0.60919097],\n",
       "       ...,\n",
       "       [-0.92039468,  1.46090664,  0.16753826, ..., -0.37074104,\n",
       "         3.26608697,  2.69309363],\n",
       "       [-0.92197294,  1.46432109,  0.31801835, ..., -0.33364691,\n",
       "        -0.56688806, -0.70581092],\n",
       "       [-0.91804124,  1.46639319,  0.79229193, ..., -0.06510125,\n",
       "        -0.56688806, -0.70581092]])"
      ]
     },
     "execution_count": 18,
     "metadata": {},
     "output_type": "execute_result"
    }
   ],
   "source": [
    "sdss"
   ]
  },
  {
   "cell_type": "code",
   "execution_count": 19,
   "id": "e01a534a",
   "metadata": {},
   "outputs": [],
   "source": [
    "X_train, X_test, y_train, y_test = train_test_split(sdss, pred, test_size=0.33, random_state=42)"
   ]
  },
  {
   "cell_type": "markdown",
   "id": "fc11e042",
   "metadata": {},
   "source": [
    "## <a id=\"BuildModel\"> Build Models </a>"
   ]
  },
  {
   "cell_type": "markdown",
   "id": "f4a0599b",
   "metadata": {},
   "source": [
    "### Logistic Regression"
   ]
  },
  {
   "cell_type": "markdown",
   "id": "bc818abb",
   "metadata": {},
   "source": [
    "<div style=\"text-align: justify; font-size: 16px\">\n",
    "Logistic regression is a special case of generalized linear model that is predominantly used in classification problems. In this case, we have 3 target classes. Since we use multi_class in the default setting the model will use \"auto\" as the default parameter. This parameter - ‘auto’ selects ‘ovr’ (one versus rest) if the data is binary, or if solver=’liblinear’, and otherwise selects ‘multinomial’ $^{[1]}$. \n",
    "</div>\n",
    "    <h3> Mathematical Formulation: </h3> </br>\n",
    "\n",
    "<div style=\"text-align: justify; font-size: 16px\">\n",
    "In the case of linear regression we express Y as \n",
    "\n",
    "$$ Y = \\beta_0 + \\beta_1 X $$\n",
    "\n",
    "But the problem with this is that a line cannot always be a good fit for binary/categorical values. Therefore we define the logistic function (S)\n",
    "\n",
    "$$ S = {e^{(\\beta_0 + \\beta_1X)}\\over 1+e^{(\\beta_0+\\beta_1X)}} $$\n",
    "\n",
    "Once this is framed, the problem is about estimating the values of $\\beta_0$ and $\\beta_1$ which can be done using MLE [Maximum Likelihood Estimation]. \n",
    "</div>\n"
   ]
  },
  {
   "cell_type": "code",
   "execution_count": 20,
   "id": "b2aba180",
   "metadata": {},
   "outputs": [],
   "source": [
    "Logistic_Regression_Model= LogisticRegression() # initialising the model"
   ]
  },
  {
   "cell_type": "code",
   "execution_count": 21,
   "id": "ff4b0664",
   "metadata": {},
   "outputs": [
    {
     "name": "stderr",
     "output_type": "stream",
     "text": [
      "/Users/vancheeswaran/opt/anaconda3/lib/python3.9/site-packages/sklearn/linear_model/_logistic.py:814: ConvergenceWarning: lbfgs failed to converge (status=1):\n",
      "STOP: TOTAL NO. of ITERATIONS REACHED LIMIT.\n",
      "\n",
      "Increase the number of iterations (max_iter) or scale the data as shown in:\n",
      "    https://scikit-learn.org/stable/modules/preprocessing.html\n",
      "Please also refer to the documentation for alternative solver options:\n",
      "    https://scikit-learn.org/stable/modules/linear_model.html#logistic-regression\n",
      "  n_iter_i = _check_optimize_result(\n"
     ]
    },
    {
     "data": {
      "text/plain": [
       "LogisticRegression()"
      ]
     },
     "execution_count": 21,
     "metadata": {},
     "output_type": "execute_result"
    }
   ],
   "source": [
    "Logistic_Regression_Model.fit(X_train,y_train)"
   ]
  },
  {
   "cell_type": "code",
   "execution_count": 22,
   "id": "81372d96",
   "metadata": {},
   "outputs": [
    {
     "data": {
      "text/plain": [
       "{'C': 1.0,\n",
       " 'class_weight': None,\n",
       " 'dual': False,\n",
       " 'fit_intercept': True,\n",
       " 'intercept_scaling': 1,\n",
       " 'l1_ratio': None,\n",
       " 'max_iter': 100,\n",
       " 'multi_class': 'auto',\n",
       " 'n_jobs': None,\n",
       " 'penalty': 'l2',\n",
       " 'random_state': None,\n",
       " 'solver': 'lbfgs',\n",
       " 'tol': 0.0001,\n",
       " 'verbose': 0,\n",
       " 'warm_start': False}"
      ]
     },
     "execution_count": 22,
     "metadata": {},
     "output_type": "execute_result"
    }
   ],
   "source": [
    "Logistic_Regression_Model.get_params() # Model Parameters"
   ]
  },
  {
   "cell_type": "code",
   "execution_count": 23,
   "id": "cab071e1",
   "metadata": {},
   "outputs": [],
   "source": [
    "Logistic_Regression_Preds= Logistic_Regression_Model.predict(X_test) # getting predictions"
   ]
  },
  {
   "cell_type": "code",
   "execution_count": 24,
   "id": "5752b9a5",
   "metadata": {},
   "outputs": [],
   "source": [
    "feature_importance_logistic= Logistic_Regression_Model.coef_[0] # getting feature importance scores"
   ]
  },
  {
   "cell_type": "code",
   "execution_count": 25,
   "id": "97aeb1fb",
   "metadata": {},
   "outputs": [
    {
     "name": "stderr",
     "output_type": "stream",
     "text": [
      "/Users/vancheeswaran/opt/anaconda3/lib/python3.9/site-packages/seaborn/_decorators.py:36: FutureWarning: Pass the following variables as keyword args: x, y. From version 0.12, the only valid positional argument will be `data`, and passing other arguments without an explicit keyword will result in an error or misinterpretation.\n",
      "  warnings.warn(\n"
     ]
    },
    {
     "data": {
      "text/plain": [
       "<AxesSubplot:>"
      ]
     },
     "execution_count": 25,
     "metadata": {},
     "output_type": "execute_result"
    },
    {
     "data": {
      "image/png": "[encoded data removed]",
      "text/plain": [
       "<Figure size 432x288 with 1 Axes>"
      ]
     },
     "metadata": {
      "needs_background": "light"
     },
     "output_type": "display_data"
    }
   ],
   "source": [
    "sns.barplot(sdss_columns,feature_importance_logistic) # Plotting the feature importance scores"
   ]
  },
  {
   "cell_type": "markdown",
   "id": "858d447a",
   "metadata": {},
   "source": [
    "<div style=\"text-align: justify; font-size: 16px\">\n",
    "This plot demonstrates which features are given most preference while training the logistic regression model. Redshift, followed by r and u are the 3 most important features as per logistic regression model. This does seem to make sense as the classes we are classifying in general can be distinguished by their distance (often can be found by checking the redshift) from observatories. Also, spectral information can be very useful in discriminating these classes.\n",
    "    </div>"
   ]
  },
  {
   "cell_type": "markdown",
   "id": "4141a0b9",
   "metadata": {},
   "source": [
    "### Decision Tree Classifier"
   ]
  },
  {
   "cell_type": "markdown",
   "id": "d2e72468",
   "metadata": {},
   "source": [
    "<div style=\"text-align: justify; font-size: 16px\">\n",
    "Decision Tree is a non-parametric supervised learning model that can be used for classification and regression $^{[2]}$. In this case we use it for a classification problem. The nodes in the tree are chosen in such a way as to best split the data by using the CART [Classification and Regression Tree] algorithm. The quality of the split can be measured using Gini, Entropy or Log Loss.  \n",
    "\n",
    "There are two methods for improving the performance of decision trees. Both of these methods are ensemble methods. They are:\n",
    "    <ul>\n",
    "        <li>Bagging: This method randomly samples the data and subsets them into independent sets for training independent decision trees. The result from all the decision trees are averaged out to get the final result. This method decreases the variance and overfitting.</li>\n",
    "    <li>Boosting: This method trains on the complete training data and then the subsequent trees try to learn from the mistakes that the tree in the previous iteration made. This way a stronger model is built from a weak model. This method decreases bias and underfitting.</li>\n",
    "    </ul>"
   ]
  },
  {
   "cell_type": "code",
   "execution_count": 26,
   "id": "84b14a7b",
   "metadata": {},
   "outputs": [],
   "source": [
    "Decision_Tree_Classifier_Model=DecisionTreeClassifier() # initialising the model"
   ]
  },
  {
   "cell_type": "code",
   "execution_count": 27,
   "id": "61fafb95",
   "metadata": {},
   "outputs": [
    {
     "data": {
      "text/plain": [
       "DecisionTreeClassifier()"
      ]
     },
     "execution_count": 27,
     "metadata": {},
     "output_type": "execute_result"
    }
   ],
   "source": [
    "Decision_Tree_Classifier_Model.fit(X_train,y_train) # fitting the model"
   ]
  },
  {
   "cell_type": "code",
   "execution_count": 28,
   "id": "d43143d4",
   "metadata": {},
   "outputs": [
    {
     "data": {
      "text/plain": [
       "{'ccp_alpha': 0.0,\n",
       " 'class_weight': None,\n",
       " 'criterion': 'gini',\n",
       " 'max_depth': None,\n",
       " 'max_features': None,\n",
       " 'max_leaf_nodes': None,\n",
       " 'min_impurity_decrease': 0.0,\n",
       " 'min_samples_leaf': 1,\n",
       " 'min_samples_split': 2,\n",
       " 'min_weight_fraction_leaf': 0.0,\n",
       " 'random_state': None,\n",
       " 'splitter': 'best'}"
      ]
     },
     "execution_count": 28,
     "metadata": {},
     "output_type": "execute_result"
    }
   ],
   "source": [
    "Decision_Tree_Classifier_Model.get_params() # Model Parameters"
   ]
  },
  {
   "cell_type": "code",
   "execution_count": 29,
   "id": "03b61542",
   "metadata": {},
   "outputs": [
    {
     "data": {
      "text/plain": [
       "[Text(0.5, 0.875, 'X[7] <= -0.364\\ngini = 0.566\\nsamples = 6700\\nvalue = [3365, 530, 2805]'),\n",
       " Text(0.25, 0.625, 'X[1] <= 2.122\\ngini = 0.011\\nsamples = 2819\\nvalue = [15, 1, 2803]'),\n",
       " Text(0.125, 0.375, 'X[2] <= 1.153\\ngini = 0.011\\nsamples = 2817\\nvalue = [14, 1, 2802]'),\n",
       " Text(0.0625, 0.125, '\\n  (...)  \\n'),\n",
       " Text(0.1875, 0.125, '\\n  (...)  \\n'),\n",
       " Text(0.375, 0.375, 'X[2] <= -1.912\\ngini = 0.5\\nsamples = 2\\nvalue = [1, 0, 1]'),\n",
       " Text(0.3125, 0.125, '\\n  (...)  \\n'),\n",
       " Text(0.4375, 0.125, '\\n  (...)  \\n'),\n",
       " Text(0.75, 0.625, 'X[7] <= 0.191\\ngini = 0.236\\nsamples = 3881\\nvalue = [3350, 529, 2]'),\n",
       " Text(0.625, 0.375, 'X[3] <= 1.133\\ngini = 0.023\\nsamples = 3370\\nvalue = [3331, 37, 2]'),\n",
       " Text(0.5625, 0.125, '\\n  (...)  \\n'),\n",
       " Text(0.6875, 0.125, '\\n  (...)  \\n'),\n",
       " Text(0.875, 0.375, 'X[5] <= -0.023\\ngini = 0.072\\nsamples = 511\\nvalue = [19, 492, 0]'),\n",
       " Text(0.8125, 0.125, '\\n  (...)  \\n'),\n",
       " Text(0.9375, 0.125, '\\n  (...)  \\n')]"
      ]
     },
     "execution_count": 29,
     "metadata": {},
     "output_type": "execute_result"
    },
    {
     "data": {
      "image/png": "[encoded data removed]",
      "text/plain": [
       "<Figure size 432x288 with 1 Axes>"
      ]
     },
     "metadata": {
      "needs_background": "light"
     },
     "output_type": "display_data"
    }
   ],
   "source": [
    "tree.plot_tree(Decision_Tree_Classifier_Model,max_depth=2,fontsize=6) # Taking a look at how decision tree is built"
   ]
  },
  {
   "cell_type": "code",
   "execution_count": 30,
   "id": "0de954f0",
   "metadata": {},
   "outputs": [],
   "source": [
    "Decision_Tree_Classifier_preds= Decision_Tree_Classifier_Model.predict(X_test) # getting predictions"
   ]
  },
  {
   "cell_type": "code",
   "execution_count": 31,
   "id": "37fa2292",
   "metadata": {},
   "outputs": [],
   "source": [
    "feature_importance_Decision_Tree=Decision_Tree_Classifier_Model.feature_importances_ # getting feature importance scores"
   ]
  },
  {
   "cell_type": "code",
   "execution_count": 32,
   "id": "9e004078",
   "metadata": {},
   "outputs": [
    {
     "name": "stderr",
     "output_type": "stream",
     "text": [
      "/Users/vancheeswaran/opt/anaconda3/lib/python3.9/site-packages/seaborn/_decorators.py:36: FutureWarning: Pass the following variables as keyword args: x, y. From version 0.12, the only valid positional argument will be `data`, and passing other arguments without an explicit keyword will result in an error or misinterpretation.\n",
      "  warnings.warn(\n"
     ]
    },
    {
     "data": {
      "text/plain": [
       "<AxesSubplot:>"
      ]
     },
     "execution_count": 32,
     "metadata": {},
     "output_type": "execute_result"
    },
    {
     "data": {
      "image/png": "[encoded data removed]",
      "text/plain": [
       "<Figure size 432x288 with 1 Axes>"
      ]
     },
     "metadata": {
      "needs_background": "light"
     },
     "output_type": "display_data"
    }
   ],
   "source": [
    "sns.barplot(sdss_columns,feature_importance_Decision_Tree) # Plotting the feature importance scores"
   ]
  },
  {
   "cell_type": "markdown",
   "id": "0c7ef99a",
   "metadata": {},
   "source": [
    "<div style=\"text-align: justify; font-size: 16px\">\n",
    "This plot shows that the decision tree algorithm predominantly uses the reshift parameter as the most important feature. This essentially could mean that the decision tree function could be overfitting. We will explore more on this in the metrics section.\n",
    "   </div>"
   ]
  },
  {
   "cell_type": "markdown",
   "id": "463fcf3f",
   "metadata": {},
   "source": [
    "### Random Forest"
   ]
  },
  {
   "cell_type": "markdown",
   "id": "b4c55440",
   "metadata": {},
   "source": [
    "<div style=\"text-align: justify; font-size: 16px\">\n",
    "The Random Forest Model is an extension of the decision tree model. We perform bagging and feature randomness to generate multiple decision trees. Depending on whether the underlying problem is classification or regression, we either choose the majority voting or average the values. This model minimises variance and overfitting. $^{[3]}$ </div>"
   ]
  },
  {
   "cell_type": "code",
   "execution_count": 33,
   "id": "13752255",
   "metadata": {},
   "outputs": [],
   "source": [
    "Random_Forest_Classifier_Model=RandomForestClassifier() # initialising the model"
   ]
  },
  {
   "cell_type": "code",
   "execution_count": 34,
   "id": "5e2af76b",
   "metadata": {},
   "outputs": [
    {
     "data": {
      "text/plain": [
       "RandomForestClassifier()"
      ]
     },
     "execution_count": 34,
     "metadata": {},
     "output_type": "execute_result"
    }
   ],
   "source": [
    "Random_Forest_Classifier_Model.fit(X_train,y_train) # fitting the model"
   ]
  },
  {
   "cell_type": "code",
   "execution_count": 35,
   "id": "03636711",
   "metadata": {},
   "outputs": [
    {
     "data": {
      "text/plain": [
       "{'bootstrap': True,\n",
       " 'ccp_alpha': 0.0,\n",
       " 'class_weight': None,\n",
       " 'criterion': 'gini',\n",
       " 'max_depth': None,\n",
       " 'max_features': 'auto',\n",
       " 'max_leaf_nodes': None,\n",
       " 'max_samples': None,\n",
       " 'min_impurity_decrease': 0.0,\n",
       " 'min_samples_leaf': 1,\n",
       " 'min_samples_split': 2,\n",
       " 'min_weight_fraction_leaf': 0.0,\n",
       " 'n_estimators': 100,\n",
       " 'n_jobs': None,\n",
       " 'oob_score': False,\n",
       " 'random_state': None,\n",
       " 'verbose': 0,\n",
       " 'warm_start': False}"
      ]
     },
     "execution_count": 35,
     "metadata": {},
     "output_type": "execute_result"
    }
   ],
   "source": [
    "Random_Forest_Classifier_Model.get_params() # Model Parameters"
   ]
  },
  {
   "cell_type": "code",
   "execution_count": 36,
   "id": "abfcec39",
   "metadata": {},
   "outputs": [],
   "source": [
    "Random_Forest_Classifier_Preds= Random_Forest_Classifier_Model.predict(X_test) # getting predictions"
   ]
  },
  {
   "cell_type": "code",
   "execution_count": 37,
   "id": "f69f8ff2",
   "metadata": {},
   "outputs": [],
   "source": [
    "feature_importance_Random_Forest=Random_Forest_Classifier_Model.feature_importances_ # getting feature importance scores "
   ]
  },
  {
   "cell_type": "code",
   "execution_count": 38,
   "id": "9bb93e64",
   "metadata": {},
   "outputs": [
    {
     "name": "stderr",
     "output_type": "stream",
     "text": [
      "/Users/vancheeswaran/opt/anaconda3/lib/python3.9/site-packages/seaborn/_decorators.py:36: FutureWarning: Pass the following variables as keyword args: x, y. From version 0.12, the only valid positional argument will be `data`, and passing other arguments without an explicit keyword will result in an error or misinterpretation.\n",
      "  warnings.warn(\n"
     ]
    },
    {
     "data": {
      "text/plain": [
       "<AxesSubplot:>"
      ]
     },
     "execution_count": 38,
     "metadata": {},
     "output_type": "execute_result"
    },
    {
     "data": {
      "image/png": "[encoded data removed]",
      "text/plain": [
       "<Figure size 432x288 with 1 Axes>"
      ]
     },
     "metadata": {
      "needs_background": "light"
     },
     "output_type": "display_data"
    }
   ],
   "source": [
    "sns.barplot(sdss_columns,feature_importance_Random_Forest) # Plotting the feature importance scores"
   ]
  },
  {
   "cell_type": "markdown",
   "id": "a5169acc",
   "metadata": {},
   "source": [
    "<div style=\"text-align: justify; font-size: 16px\">\n",
    "As expected, Random Forest doesn't overfit when compared to that of decision tree. This is evident by the fact that Redshift, Plate and MJD parameters are the 3 most important parameters. Recall that the plot for decision tree had only one peak value and that was for Redshift. \n",
    "    </div>"
   ]
  },
  {
   "cell_type": "markdown",
   "id": "2d63f0df",
   "metadata": {},
   "source": [
    "###  XGBoost"
   ]
  },
  {
   "cell_type": "markdown",
   "id": "7be9ccb6",
   "metadata": {},
   "source": [
    "<div style=\"text-align: justify; font-size: 16px\">\n",
    "XGBoost is another modification of Decision Tree. This algorithm uses GBDT [Gradient Boosted Decision Tree] instead of bagging and feature randomness as used in Random Forest model. This technique basically trains shallow decision trees in each iteration, the shallow decision tree in the subsequent iteration builds on the experiences in the previous iteration. This model minimises Bias and underfitting. $^{[4]}$</div>"
   ]
  },
  {
   "cell_type": "code",
   "execution_count": 39,
   "id": "de280216",
   "metadata": {},
   "outputs": [],
   "source": [
    "XGBoost_Classifier_Model= XGBClassifier() # initialising the model"
   ]
  },
  {
   "cell_type": "code",
   "execution_count": 40,
   "id": "f7250cd3",
   "metadata": {},
   "outputs": [
    {
     "data": {
      "text/plain": [
       "XGBClassifier(base_score=0.5, booster='gbtree', callbacks=None,\n",
       "              colsample_bylevel=1, colsample_bynode=1, colsample_bytree=1,\n",
       "              early_stopping_rounds=None, enable_categorical=False,\n",
       "              eval_metric=None, feature_types=None, gamma=0, gpu_id=-1,\n",
       "              grow_policy='depthwise', importance_type=None,\n",
       "              interaction_constraints='', learning_rate=0.300000012,\n",
       "              max_bin=256, max_cat_threshold=64, max_cat_to_onehot=4,\n",
       "              max_delta_step=0, max_depth=6, max_leaves=0, min_child_weight=1,\n",
       "              missing=nan, monotone_constraints='()', n_estimators=100,\n",
       "              n_jobs=0, num_parallel_tree=1, objective='multi:softprob',\n",
       "              predictor='auto', ...)"
      ]
     },
     "execution_count": 40,
     "metadata": {},
     "output_type": "execute_result"
    }
   ],
   "source": [
    "XGBoost_Classifier_Model.fit(X_train,y_train) # fitting the model "
   ]
  },
  {
   "cell_type": "code",
   "execution_count": 41,
   "id": "ff0e38ca",
   "metadata": {},
   "outputs": [
    {
     "data": {
      "text/plain": [
       "{'objective': 'multi:softprob',\n",
       " 'use_label_encoder': None,\n",
       " 'base_score': 0.5,\n",
       " 'booster': 'gbtree',\n",
       " 'callbacks': None,\n",
       " 'colsample_bylevel': 1,\n",
       " 'colsample_bynode': 1,\n",
       " 'colsample_bytree': 1,\n",
       " 'early_stopping_rounds': None,\n",
       " 'enable_categorical': False,\n",
       " 'eval_metric': None,\n",
       " 'feature_types': None,\n",
       " 'gamma': 0,\n",
       " 'gpu_id': -1,\n",
       " 'grow_policy': 'depthwise',\n",
       " 'importance_type': None,\n",
       " 'interaction_constraints': '',\n",
       " 'learning_rate': 0.300000012,\n",
       " 'max_bin': 256,\n",
       " 'max_cat_threshold': 64,\n",
       " 'max_cat_to_onehot': 4,\n",
       " 'max_delta_step': 0,\n",
       " 'max_depth': 6,\n",
       " 'max_leaves': 0,\n",
       " 'min_child_weight': 1,\n",
       " 'missing': nan,\n",
       " 'monotone_constraints': '()',\n",
       " 'n_estimators': 100,\n",
       " 'n_jobs': 0,\n",
       " 'num_parallel_tree': 1,\n",
       " 'predictor': 'auto',\n",
       " 'random_state': 0,\n",
       " 'reg_alpha': 0,\n",
       " 'reg_lambda': 1,\n",
       " 'sampling_method': 'uniform',\n",
       " 'scale_pos_weight': None,\n",
       " 'subsample': 1,\n",
       " 'tree_method': 'exact',\n",
       " 'validate_parameters': 1,\n",
       " 'verbosity': None}"
      ]
     },
     "execution_count": 41,
     "metadata": {},
     "output_type": "execute_result"
    }
   ],
   "source": [
    "XGBoost_Classifier_Model.get_params() # Model Parameters"
   ]
  },
  {
   "cell_type": "code",
   "execution_count": 42,
   "id": "3ba3798e",
   "metadata": {},
   "outputs": [],
   "source": [
    "XGBoost_Classifier_preds=XGBoost_Classifier_Model.predict(X_test)  # getting predictions"
   ]
  },
  {
   "cell_type": "code",
   "execution_count": 43,
   "id": "6c5138ab",
   "metadata": {},
   "outputs": [],
   "source": [
    "feature_importance_XGBoost=XGBoost_Classifier_Model.feature_importances_ # getting feature importance scores "
   ]
  },
  {
   "cell_type": "code",
   "execution_count": 44,
   "id": "6547655f",
   "metadata": {},
   "outputs": [
    {
     "name": "stderr",
     "output_type": "stream",
     "text": [
      "/Users/vancheeswaran/opt/anaconda3/lib/python3.9/site-packages/seaborn/_decorators.py:36: FutureWarning: Pass the following variables as keyword args: x, y. From version 0.12, the only valid positional argument will be `data`, and passing other arguments without an explicit keyword will result in an error or misinterpretation.\n",
      "  warnings.warn(\n"
     ]
    },
    {
     "data": {
      "text/plain": [
       "<AxesSubplot:>"
      ]
     },
     "execution_count": 44,
     "metadata": {},
     "output_type": "execute_result"
    },
    {
     "data": {
      "image/png": "[encoded data removed]",
      "text/plain": [
       "<Figure size 432x288 with 1 Axes>"
      ]
     },
     "metadata": {
      "needs_background": "light"
     },
     "output_type": "display_data"
    }
   ],
   "source": [
    "sns.barplot(sdss_columns,feature_importance_XGBoost) # Plotting the feature importance scores"
   ]
  },
  {
   "cell_type": "markdown",
   "id": "5d0f225f",
   "metadata": {},
   "source": [
    "<div style=\"text-align: justify; font-size: 16px\">\n",
    "As expected, this model overfits as it tries to reduce bias and underfitting. The most important feature for this model is Redshift parameter.\n",
    "    </div>"
   ]
  },
  {
   "cell_type": "markdown",
   "id": "bd02e522",
   "metadata": {},
   "source": [
    "\n",
    "## <a id=\"Metrics\"> Metrics </a>"
   ]
  },
  {
   "cell_type": "markdown",
   "id": "295fa23e",
   "metadata": {},
   "source": [
    "### Confusion Matrix"
   ]
  },
  {
   "cell_type": "markdown",
   "id": "05786996",
   "metadata": {},
   "source": [
    "<div style=\"text-align: justify; font-size: 16px\">\n",
    "    <p>A confusion matrix, also known as an error matrix, is a specific table layout that allows visualization of the performance of an algorithm. Each row of the matrix represents the instances in an actual class while each column represents the instances in a predicted class, or vice versa.<sup>[5]</sup></p>\n",
    "</div>"
   ]
  },
  {
   "cell_type": "code",
   "execution_count": 45,
   "id": "6d5604e3",
   "metadata": {},
   "outputs": [
    {
     "data": {
      "text/plain": [
       "<AxesSubplot:>"
      ]
     },
     "execution_count": 45,
     "metadata": {},
     "output_type": "execute_result"
    },
    {
     "data": {
      "image/png": "[encoded data removed]",
      "text/plain": [
       "<Figure size 432x288 with 2 Axes>"
      ]
     },
     "metadata": {
      "needs_background": "light"
     },
     "output_type": "display_data"
    }
   ],
   "source": [
    "sns.heatmap(confusion_matrix(XGBoost_Classifier_preds, y_test), annot=True)"
   ]
  },
  {
   "cell_type": "code",
   "execution_count": 46,
   "id": "ceb6f222",
   "metadata": {},
   "outputs": [
    {
     "data": {
      "text/plain": [
       "<AxesSubplot:>"
      ]
     },
     "execution_count": 46,
     "metadata": {},
     "output_type": "execute_result"
    },
    {
     "data": {
      "image/png": "[encoded data removed]",
      "text/plain": [
       "<Figure size 432x288 with 2 Axes>"
      ]
     },
     "metadata": {
      "needs_background": "light"
     },
     "output_type": "display_data"
    }
   ],
   "source": [
    "sns.heatmap(confusion_matrix(Random_Forest_Classifier_Preds, y_test), annot=True)"
   ]
  },
  {
   "cell_type": "code",
   "execution_count": 47,
   "id": "b78b2f2a",
   "metadata": {},
   "outputs": [
    {
     "data": {
      "text/plain": [
       "<AxesSubplot:>"
      ]
     },
     "execution_count": 47,
     "metadata": {},
     "output_type": "execute_result"
    },
    {
     "data": {
      "image/png": "[encoded data removed]",
      "text/plain": [
       "<Figure size 432x288 with 2 Axes>"
      ]
     },
     "metadata": {
      "needs_background": "light"
     },
     "output_type": "display_data"
    }
   ],
   "source": [
    "sns.heatmap(confusion_matrix(Decision_Tree_Classifier_preds, y_test),annot=True)"
   ]
  },
  {
   "cell_type": "code",
   "execution_count": 48,
   "id": "36b57858",
   "metadata": {},
   "outputs": [
    {
     "data": {
      "text/plain": [
       "<AxesSubplot:>"
      ]
     },
     "execution_count": 48,
     "metadata": {},
     "output_type": "execute_result"
    },
    {
     "data": {
      "image/png": "[encoded data removed]",
      "text/plain": [
       "<Figure size 432x288 with 2 Axes>"
      ]
     },
     "metadata": {
      "needs_background": "light"
     },
     "output_type": "display_data"
    }
   ],
   "source": [
    "sns.heatmap(confusion_matrix(Logistic_Regression_Preds, y_test),annot=True)"
   ]
  },
  {
   "cell_type": "markdown",
   "id": "189ab3a6",
   "metadata": {},
   "source": [
    "### Accuracy"
   ]
  },
  {
   "cell_type": "markdown",
   "id": "e8e2fe1a",
   "metadata": {},
   "source": [
    "<div style=\"text-align: justify; font-size: 16px\">\n",
    "    <p>Accuracy score is the percent of the values that the model predicted correctly. This is a simple metric that gives an idea of how accurate the model is in classifying the different classes correctly. <sup> [6] </sup> </p>\n",
    "    <p>Here we have calculated the accuracy of the 4 different classifiers using the accuracy_score function available in the sklearn.metrics module in python.</p>\n",
    "    <p>Based on the values that we have obtained for the classifiers we can notice that the XGBoost Classifier has the highest accuracy with 99.15% and the Logistic Regression Classifier has the lowest with 97.27%.</p> \n",
    "</div>\n",
    "\n",
    "</br> $$ Accuracy\\ =\\ \\frac{y_{correct}}{y_{total}} $$  "
   ]
  },
  {
   "cell_type": "code",
   "execution_count": 49,
   "id": "3a122754",
   "metadata": {},
   "outputs": [],
   "source": [
    "accuracy=[]"
   ]
  },
  {
   "cell_type": "code",
   "execution_count": 50,
   "id": "137ebfff",
   "metadata": {},
   "outputs": [],
   "source": [
    "accuracy.append(accuracy_score(Logistic_Regression_Preds,y_test))"
   ]
  },
  {
   "cell_type": "code",
   "execution_count": 51,
   "id": "2c253a9c",
   "metadata": {},
   "outputs": [
    {
     "data": {
      "text/plain": [
       "0.9727272727272728"
      ]
     },
     "execution_count": 51,
     "metadata": {},
     "output_type": "execute_result"
    }
   ],
   "source": [
    "accuracy[-1]"
   ]
  },
  {
   "cell_type": "code",
   "execution_count": 52,
   "id": "947d7b43",
   "metadata": {},
   "outputs": [],
   "source": [
    "accuracy.append(accuracy_score(Decision_Tree_Classifier_preds,y_test))"
   ]
  },
  {
   "cell_type": "code",
   "execution_count": 53,
   "id": "5b5fa10c",
   "metadata": {},
   "outputs": [
    {
     "data": {
      "text/plain": [
       "0.9854545454545455"
      ]
     },
     "execution_count": 53,
     "metadata": {},
     "output_type": "execute_result"
    }
   ],
   "source": [
    "accuracy[-1]"
   ]
  },
  {
   "cell_type": "code",
   "execution_count": 54,
   "id": "77a0dfcc",
   "metadata": {},
   "outputs": [],
   "source": [
    "accuracy.append(accuracy_score(Random_Forest_Classifier_Preds,y_test))"
   ]
  },
  {
   "cell_type": "code",
   "execution_count": 55,
   "id": "53d8ffc9",
   "metadata": {},
   "outputs": [
    {
     "data": {
      "text/plain": [
       "0.9887878787878788"
      ]
     },
     "execution_count": 55,
     "metadata": {},
     "output_type": "execute_result"
    }
   ],
   "source": [
    "accuracy[-1]"
   ]
  },
  {
   "cell_type": "code",
   "execution_count": 56,
   "id": "b693f6e6",
   "metadata": {},
   "outputs": [],
   "source": [
    "accuracy.append(accuracy_score(XGBoost_Classifier_preds,y_test))"
   ]
  },
  {
   "cell_type": "code",
   "execution_count": 57,
   "id": "b2f05f91",
   "metadata": {},
   "outputs": [
    {
     "data": {
      "text/plain": [
       "0.9915151515151515"
      ]
     },
     "execution_count": 57,
     "metadata": {},
     "output_type": "execute_result"
    }
   ],
   "source": [
    "accuracy[-1]"
   ]
  },
  {
   "cell_type": "markdown",
   "id": "2ec62775",
   "metadata": {},
   "source": [
    "###   AUC-ROC"
   ]
  },
  {
   "cell_type": "markdown",
   "id": "50db587e",
   "metadata": {},
   "source": [
    "<div style=\"text-align: justify; font-size: 16px\">\n",
    "    <p>The AUC-ROC (AUC -  Area Under Curve, ROC - Receiver Operating Characteristics) is a unit of measurement to determine how good a classifier is based on the classifier's ability to separate the different classes. The higher the score of the AUC-ROC score the better is the classifier. Since it is a probability based measurement, the range of values of the AUC-ROC score is between 0 and 1. $^{[7]}$</p>\n",
    "    <p>Here we have calculated the Log Loss of the 4 different classifiers using the roc_auc_score function available in the sklearn.metrics module in python.</p>\n",
    "    <p>Based on the values that we have obtained for the classifiers we can notice that the Random Forest Classifier has the highest AUC-ROC score and the Decision Tree Classifier has the lowest.</p>\n",
    "</div>"
   ]
  },
  {
   "cell_type": "code",
   "execution_count": 58,
   "id": "af06a7b2",
   "metadata": {},
   "outputs": [],
   "source": [
    "roc=[]"
   ]
  },
  {
   "cell_type": "code",
   "execution_count": 59,
   "id": "5594e355",
   "metadata": {},
   "outputs": [],
   "source": [
    "roc.append(roc_auc_score(y_test,Logistic_Regression_Model.predict_proba(X_test),multi_class='ovr'))"
   ]
  },
  {
   "cell_type": "code",
   "execution_count": 60,
   "id": "4fec2207",
   "metadata": {},
   "outputs": [
    {
     "data": {
      "text/plain": [
       "0.9930736663846123"
      ]
     },
     "execution_count": 60,
     "metadata": {},
     "output_type": "execute_result"
    }
   ],
   "source": [
    "roc[-1]"
   ]
  },
  {
   "cell_type": "code",
   "execution_count": 61,
   "id": "01aea5b3",
   "metadata": {},
   "outputs": [],
   "source": [
    "roc.append(roc_auc_score(y_test,Decision_Tree_Classifier_Model.predict_proba(X_test),multi_class='ovr'))"
   ]
  },
  {
   "cell_type": "code",
   "execution_count": 62,
   "id": "15cb0f8d",
   "metadata": {},
   "outputs": [
    {
     "data": {
      "text/plain": [
       "0.9804738186011694"
      ]
     },
     "execution_count": 62,
     "metadata": {},
     "output_type": "execute_result"
    }
   ],
   "source": [
    "roc[-1]"
   ]
  },
  {
   "cell_type": "code",
   "execution_count": 63,
   "id": "ce714e20",
   "metadata": {},
   "outputs": [],
   "source": [
    "roc.append(roc_auc_score(y_test,Random_Forest_Classifier_Model.predict_proba(X_test),multi_class='ovr'))"
   ]
  },
  {
   "cell_type": "code",
   "execution_count": 64,
   "id": "527fb5f0",
   "metadata": {},
   "outputs": [
    {
     "data": {
      "text/plain": [
       "0.9965488841628236"
      ]
     },
     "execution_count": 64,
     "metadata": {},
     "output_type": "execute_result"
    }
   ],
   "source": [
    "roc[-1]"
   ]
  },
  {
   "cell_type": "code",
   "execution_count": 65,
   "id": "82d8b45e",
   "metadata": {},
   "outputs": [],
   "source": [
    "roc.append(roc_auc_score(y_test,XGBoost_Classifier_Model.predict_proba(X_test),multi_class='ovr'))"
   ]
  },
  {
   "cell_type": "code",
   "execution_count": 66,
   "id": "c4e60635",
   "metadata": {},
   "outputs": [
    {
     "data": {
      "text/plain": [
       "0.9974030432353004"
      ]
     },
     "execution_count": 66,
     "metadata": {},
     "output_type": "execute_result"
    }
   ],
   "source": [
    "roc[-1]"
   ]
  },
  {
   "cell_type": "markdown",
   "id": "693e9fee",
   "metadata": {},
   "source": [
    "### Log Loss"
   ]
  },
  {
   "cell_type": "markdown",
   "id": "a46c5a7e",
   "metadata": {},
   "source": [
    "<div style=\"text-align: justify; font-size: 16px\">\n",
    "    <p>The log loss of a model is the summation over the log of the difference between the predicted value and the actual value. The larger the value of the loss loss function then the poorer is the classification model as the difference between the true and predicted value increases, which in turn increases the log loss.</p>\n",
    "     <p>Here we have calculated the Log Loss of the 4 different classifiers using the log_loss function available in the sklearn.metrics module in python. $^{[8]}$</p>\n",
    "    <p>Based on the values obtained from the log loss of each of the classifiers, we can notice that the Decision Tree classifier has the highest value indicating it to be the worst classifier while XGBoost is the best classifier based on the log loss values.</p> </br>\n",
    "</div>\n",
    "$$ L_{log} = -y*log(p)-(1-y)*log(1-p) $$\n",
    "$$ where, y \\ \\epsilon\\  \\{0,1\\} \\ and \\  p\\  -\\  probability\\  of\\  class\\  y_i\\  happening $$"
   ]
  },
  {
   "cell_type": "code",
   "execution_count": 67,
   "id": "34d12d9b",
   "metadata": {},
   "outputs": [],
   "source": [
    "log=[]"
   ]
  },
  {
   "cell_type": "code",
   "execution_count": 68,
   "id": "4b716989",
   "metadata": {},
   "outputs": [],
   "source": [
    "log.append(log_loss(y_test,Logistic_Regression_Model.predict_proba(X_test)))"
   ]
  },
  {
   "cell_type": "code",
   "execution_count": 69,
   "id": "d61b50e7",
   "metadata": {},
   "outputs": [
    {
     "data": {
      "text/plain": [
       "0.12353393810251807"
      ]
     },
     "execution_count": 69,
     "metadata": {},
     "output_type": "execute_result"
    }
   ],
   "source": [
    "log[-1]"
   ]
  },
  {
   "cell_type": "code",
   "execution_count": 70,
   "id": "2bfc68f7",
   "metadata": {},
   "outputs": [],
   "source": [
    "log.append(log_loss(y_test,Decision_Tree_Classifier_Model.predict_proba(X_test)))"
   ]
  },
  {
   "cell_type": "code",
   "execution_count": 71,
   "id": "51792f44",
   "metadata": {},
   "outputs": [
    {
     "data": {
      "text/plain": [
       "0.5023822021077937"
      ]
     },
     "execution_count": 71,
     "metadata": {},
     "output_type": "execute_result"
    }
   ],
   "source": [
    "log[-1]"
   ]
  },
  {
   "cell_type": "code",
   "execution_count": 72,
   "id": "90cd2104",
   "metadata": {},
   "outputs": [],
   "source": [
    "log.append(log_loss(y_test,Random_Forest_Classifier_Model.predict_proba(X_test)))"
   ]
  },
  {
   "cell_type": "code",
   "execution_count": 73,
   "id": "7c0e77a3",
   "metadata": {},
   "outputs": [
    {
     "data": {
      "text/plain": [
       "0.07705246314641194"
      ]
     },
     "execution_count": 73,
     "metadata": {},
     "output_type": "execute_result"
    }
   ],
   "source": [
    "log[-1]"
   ]
  },
  {
   "cell_type": "code",
   "execution_count": 74,
   "id": "e2aacc52",
   "metadata": {},
   "outputs": [],
   "source": [
    "log.append(log_loss(y_test,XGBoost_Classifier_Model.predict_proba(X_test)))"
   ]
  },
  {
   "cell_type": "code",
   "execution_count": 75,
   "id": "fe319521",
   "metadata": {},
   "outputs": [
    {
     "data": {
      "text/plain": [
       "0.04318144331828314"
      ]
     },
     "execution_count": 75,
     "metadata": {},
     "output_type": "execute_result"
    }
   ],
   "source": [
    "log[-1]"
   ]
  },
  {
   "cell_type": "markdown",
   "id": "d81832cb",
   "metadata": {},
   "source": [
    "### F1 Score"
   ]
  },
  {
   "cell_type": "markdown",
   "id": "abb8ad5d",
   "metadata": {},
   "source": [
    "<div style=\"text-align: justify; font-size: 16px\">\n",
    "    <p>The F-score or F-measure is calculated from the precision and recall of the test, where the precision is the number of true positive results divided by the number of all positive results, including those not identified correctly, and the recall is the number of true positive results divided by the number of all samples that should have been identified as positive.<sup>[9][10]</sup></p>\n",
    "    <p>The range of F1 Score is between 0 and 1, where 0 indicates the worst model and 1 indicates the perfect model. Here we have calculated the F1 score of the 4 different classifiers using the f1_score function available in the sklearn.metrics module in python.</p>\n",
    "    <p>From the values that we have obtained for the F1 Score of the different models, we can see that the value of the XGBoost Classifier being the highest at 0.991 (approx.) and that of Logistic Regression the least at 0.972 (approx.).</p> </br>\n",
    "    $$ F1 = 2 * \\frac{(precision * recall)}{(precision + recall)} $$\n",
    "</div>"
   ]
  },
  {
   "cell_type": "code",
   "execution_count": 76,
   "id": "33bf89da",
   "metadata": {},
   "outputs": [],
   "source": [
    "f1=[]"
   ]
  },
  {
   "cell_type": "code",
   "execution_count": 77,
   "id": "10fb8d7a",
   "metadata": {},
   "outputs": [],
   "source": [
    "f1.append(f1_score(y_test,Logistic_Regression_Preds,average=\"weighted\"))"
   ]
  },
  {
   "cell_type": "code",
   "execution_count": 78,
   "id": "56ccd835",
   "metadata": {},
   "outputs": [
    {
     "data": {
      "text/plain": [
       "0.9726986505429723"
      ]
     },
     "execution_count": 78,
     "metadata": {},
     "output_type": "execute_result"
    }
   ],
   "source": [
    "f1[-1]"
   ]
  },
  {
   "cell_type": "code",
   "execution_count": 79,
   "id": "da62fafe",
   "metadata": {},
   "outputs": [],
   "source": [
    "f1.append(f1_score(y_test,Decision_Tree_Classifier_preds,average=\"weighted\"))"
   ]
  },
  {
   "cell_type": "code",
   "execution_count": 80,
   "id": "341b316e",
   "metadata": {},
   "outputs": [
    {
     "data": {
      "text/plain": [
       "0.9853961452071829"
      ]
     },
     "execution_count": 80,
     "metadata": {},
     "output_type": "execute_result"
    }
   ],
   "source": [
    "f1[-1]"
   ]
  },
  {
   "cell_type": "code",
   "execution_count": 81,
   "id": "790975c8",
   "metadata": {},
   "outputs": [],
   "source": [
    "f1.append(f1_score(y_test,Random_Forest_Classifier_Preds,average=\"weighted\"))"
   ]
  },
  {
   "cell_type": "code",
   "execution_count": 82,
   "id": "bca06370",
   "metadata": {},
   "outputs": [
    {
     "data": {
      "text/plain": [
       "0.9887254924698526"
      ]
     },
     "execution_count": 82,
     "metadata": {},
     "output_type": "execute_result"
    }
   ],
   "source": [
    "f1[-1]"
   ]
  },
  {
   "cell_type": "code",
   "execution_count": 83,
   "id": "2ce0d309",
   "metadata": {},
   "outputs": [],
   "source": [
    "f1.append(f1_score(y_test,XGBoost_Classifier_preds,average=\"weighted\"))"
   ]
  },
  {
   "cell_type": "code",
   "execution_count": 84,
   "id": "b25b4f32",
   "metadata": {},
   "outputs": [
    {
     "data": {
      "text/plain": [
       "0.9914716597193828"
      ]
     },
     "execution_count": 84,
     "metadata": {},
     "output_type": "execute_result"
    }
   ],
   "source": [
    "f1[-1]"
   ]
  },
  {
   "cell_type": "markdown",
   "id": "82003f0f",
   "metadata": {},
   "source": [
    "## <a id=\"infer\">Inferences </a>"
   ]
  },
  {
   "cell_type": "markdown",
   "id": "f9b0133d",
   "metadata": {},
   "source": [
    "### Accuracy Plot"
   ]
  },
  {
   "cell_type": "markdown",
   "id": "be8ce16e",
   "metadata": {},
   "source": [
    "<div style=\"text-align: justify; font-size: 16px\">\n",
    "This section gives an idea of the relative performance of the models we have built previously in terms of accuracy of the model. We have two plots for this. <br>\n",
    "\n",
    "<B> Plot 1: </B> This bar plot just has the accuracy of the various models. It is a bit difficult to infer which model is performing better as they all have similar accuracy. So we have plot 2. </br>\n",
    "<B> Plot 2: </B> This plot is the difference between each model's accuracy and the model with the poorest accuracy.\n",
    "</div>"
   ]
  },
  {
   "cell_type": "code",
   "execution_count": 85,
   "id": "755531f2",
   "metadata": {},
   "outputs": [],
   "source": [
    "models=[\"Logistic Regression\",\"Decision Tree\",\"Random Forest Classifier\",\"XGBoost Classifier\"]"
   ]
  },
  {
   "cell_type": "code",
   "execution_count": 86,
   "id": "db75543b",
   "metadata": {},
   "outputs": [
    {
     "name": "stderr",
     "output_type": "stream",
     "text": [
      "/Users/vancheeswaran/opt/anaconda3/lib/python3.9/site-packages/seaborn/_decorators.py:36: FutureWarning: Pass the following variables as keyword args: x, y. From version 0.12, the only valid positional argument will be `data`, and passing other arguments without an explicit keyword will result in an error or misinterpretation.\n",
      "  warnings.warn(\n"
     ]
    },
    {
     "data": {
      "text/plain": [
       "<AxesSubplot:>"
      ]
     },
     "execution_count": 86,
     "metadata": {},
     "output_type": "execute_result"
    },
    {
     "data": {
      "image/png": "[encoded data removed]",
      "text/plain": [
       "<Figure size 432x288 with 1 Axes>"
      ]
     },
     "metadata": {
      "needs_background": "light"
     },
     "output_type": "display_data"
    }
   ],
   "source": [
    "sns.barplot(models,accuracy)"
   ]
  },
  {
   "cell_type": "code",
   "execution_count": 87,
   "id": "5b7c9e28",
   "metadata": {},
   "outputs": [
    {
     "name": "stderr",
     "output_type": "stream",
     "text": [
      "/Users/vancheeswaran/opt/anaconda3/lib/python3.9/site-packages/seaborn/_decorators.py:36: FutureWarning: Pass the following variables as keyword args: x, y. From version 0.12, the only valid positional argument will be `data`, and passing other arguments without an explicit keyword will result in an error or misinterpretation.\n",
      "  warnings.warn(\n"
     ]
    },
    {
     "data": {
      "text/plain": [
       "<AxesSubplot:>"
      ]
     },
     "execution_count": 87,
     "metadata": {},
     "output_type": "execute_result"
    },
    {
     "data": {
      "image/png": "[encoded data removed]",
      "text/plain": [
       "<Figure size 432x288 with 1 Axes>"
      ]
     },
     "metadata": {
      "needs_background": "light"
     },
     "output_type": "display_data"
    }
   ],
   "source": [
    "sns.barplot(models,np.array(accuracy)-min(accuracy))"
   ]
  },
  {
   "cell_type": "markdown",
   "id": "a69c0950",
   "metadata": {},
   "source": [
    "### Inference 1\n",
    "<br>\n",
    "<div style=\"text-align: justify; font-size: 16px\">\n",
    "From plot 2 it is evident that XGBoost performs the best in terms of accuracy, followed by Random Forest, Decision Tree and Logistic Regression.\n",
    "    </div>"
   ]
  },
  {
   "cell_type": "markdown",
   "id": "f1e32831",
   "metadata": {},
   "source": [
    "### ROC AUC Plot"
   ]
  },
  {
   "cell_type": "markdown",
   "id": "b4fd07b2",
   "metadata": {},
   "source": [
    "<div style=\"text-align: justify; font-size: 16px\">\n",
    "This section gives an idea of the relative performance of the models we have built previously in terms of the ROC AUC Score. We have two plots for this. <br>\n",
    "\n",
    "<B> Plot 1: </B> This bar plot just has the ROC AUC score of the various models. It is a bit difficult to infer which model is performing better as they all have similar ROC AUC Score. So we have plot 2. </br>\n",
    "<B> Plot 2: </B> This plot is the difference between each model's AUC ROC Score and the model with the poorest AUC ROC Score. \n",
    "</div>"
   ]
  },
  {
   "cell_type": "code",
   "execution_count": 88,
   "id": "e66d4e30",
   "metadata": {
    "scrolled": false
   },
   "outputs": [
    {
     "name": "stderr",
     "output_type": "stream",
     "text": [
      "/Users/vancheeswaran/opt/anaconda3/lib/python3.9/site-packages/seaborn/_decorators.py:36: FutureWarning: Pass the following variables as keyword args: x, y. From version 0.12, the only valid positional argument will be `data`, and passing other arguments without an explicit keyword will result in an error or misinterpretation.\n",
      "  warnings.warn(\n"
     ]
    },
    {
     "data": {
      "text/plain": [
       "<AxesSubplot:>"
      ]
     },
     "execution_count": 88,
     "metadata": {},
     "output_type": "execute_result"
    },
    {
     "data": {
      "image/png": "[encoded data removed]",
      "text/plain": [
       "<Figure size 432x288 with 1 Axes>"
      ]
     },
     "metadata": {
      "needs_background": "light"
     },
     "output_type": "display_data"
    }
   ],
   "source": [
    "sns.barplot(models,roc)"
   ]
  },
  {
   "cell_type": "code",
   "execution_count": 89,
   "id": "386595a7",
   "metadata": {},
   "outputs": [
    {
     "name": "stderr",
     "output_type": "stream",
     "text": [
      "/Users/vancheeswaran/opt/anaconda3/lib/python3.9/site-packages/seaborn/_decorators.py:36: FutureWarning: Pass the following variables as keyword args: x, y. From version 0.12, the only valid positional argument will be `data`, and passing other arguments without an explicit keyword will result in an error or misinterpretation.\n",
      "  warnings.warn(\n"
     ]
    },
    {
     "data": {
      "text/plain": [
       "<AxesSubplot:>"
      ]
     },
     "execution_count": 89,
     "metadata": {},
     "output_type": "execute_result"
    },
    {
     "data": {
      "image/png": "[encoded data removed]",
      "text/plain": [
       "<Figure size 432x288 with 1 Axes>"
      ]
     },
     "metadata": {
      "needs_background": "light"
     },
     "output_type": "display_data"
    }
   ],
   "source": [
    "sns.barplot(models,np.array(roc)-min(roc))"
   ]
  },
  {
   "cell_type": "markdown",
   "id": "a7cc0117",
   "metadata": {},
   "source": [
    "### Inference 2\n",
    "<br>\n",
    "<div style=\"text-align: justify; font-size: 16px\">\n",
    "From plot 2 it is evident that XGBoost performs the best in terms of AUC ROC Score, followed by Random Forest, Logistic Regression and Decision Tree.\n",
    "    </div>"
   ]
  },
  {
   "cell_type": "markdown",
   "id": "78370ed0",
   "metadata": {},
   "source": [
    "### Log Loss Plot"
   ]
  },
  {
   "cell_type": "markdown",
   "id": "ab196e3f",
   "metadata": {},
   "source": [
    "<div style=\"text-align: justify; font-size: 16px\">\n",
    "This section gives an idea of the relative performance of the models we have built previously in terms of the log loss. <br>\n",
    "\n",
    "<B> Plot Description: </B> This bar plot just has the log loss of the various models. Since the differences are bit varied we have used only one plot for this\n",
    "</div>"
   ]
  },
  {
   "cell_type": "code",
   "execution_count": 90,
   "id": "96bb8bb9",
   "metadata": {},
   "outputs": [
    {
     "name": "stderr",
     "output_type": "stream",
     "text": [
      "/Users/vancheeswaran/opt/anaconda3/lib/python3.9/site-packages/seaborn/_decorators.py:36: FutureWarning: Pass the following variables as keyword args: x, y. From version 0.12, the only valid positional argument will be `data`, and passing other arguments without an explicit keyword will result in an error or misinterpretation.\n",
      "  warnings.warn(\n"
     ]
    },
    {
     "data": {
      "text/plain": [
       "<AxesSubplot:>"
      ]
     },
     "execution_count": 90,
     "metadata": {},
     "output_type": "execute_result"
    },
    {
     "data": {
      "image/png": "[encoded data removed]",
      "text/plain": [
       "<Figure size 432x288 with 1 Axes>"
      ]
     },
     "metadata": {
      "needs_background": "light"
     },
     "output_type": "display_data"
    }
   ],
   "source": [
    "sns.barplot(models,log)"
   ]
  },
  {
   "cell_type": "markdown",
   "id": "813f9693",
   "metadata": {},
   "source": [
    "### Inference 3\n",
    "<br>\n",
    "<div style=\"text-align: justify; font-size: 16px\">\n",
    "Lower the log loss the better. Therefore, XGBoost performs the best followed by Random Forest, Logistic Regression and Decision Tree.\n",
    "    </div>"
   ]
  },
  {
   "cell_type": "markdown",
   "id": "910d1066",
   "metadata": {},
   "source": [
    "### F1 Score Plot"
   ]
  },
  {
   "cell_type": "markdown",
   "id": "726c583b",
   "metadata": {},
   "source": [
    "<div style=\"text-align: justify; font-size: 16px\">\n",
    "This section gives an idea of the relative performance of the models we have built previously in terms of the F1 Score. We have two plots for this. </br>\n",
    "<B> Plot 1: </B> This bar plot just has the F1 score of the various models. It is a bit difficult to infer which model is performing better as they all have similar F1 Score. So we have plot 2. <br>\n",
    "<B> Plot 2: </B> This plot is the difference between each model's F1 Score and the model with the poorest F1 Score.\n",
    "</div>"
   ]
  },
  {
   "cell_type": "code",
   "execution_count": 91,
   "id": "ebe28e05",
   "metadata": {},
   "outputs": [
    {
     "name": "stderr",
     "output_type": "stream",
     "text": [
      "/Users/vancheeswaran/opt/anaconda3/lib/python3.9/site-packages/seaborn/_decorators.py:36: FutureWarning: Pass the following variables as keyword args: x, y. From version 0.12, the only valid positional argument will be `data`, and passing other arguments without an explicit keyword will result in an error or misinterpretation.\n",
      "  warnings.warn(\n"
     ]
    },
    {
     "data": {
      "text/plain": [
       "<AxesSubplot:>"
      ]
     },
     "execution_count": 91,
     "metadata": {},
     "output_type": "execute_result"
    },
    {
     "data": {
      "image/png": "[encoded data removed]",
      "text/plain": [
       "<Figure size 432x288 with 1 Axes>"
      ]
     },
     "metadata": {
      "needs_background": "light"
     },
     "output_type": "display_data"
    }
   ],
   "source": [
    "sns.barplot(models,f1)"
   ]
  },
  {
   "cell_type": "code",
   "execution_count": 92,
   "id": "720756b5",
   "metadata": {},
   "outputs": [
    {
     "name": "stderr",
     "output_type": "stream",
     "text": [
      "/Users/vancheeswaran/opt/anaconda3/lib/python3.9/site-packages/seaborn/_decorators.py:36: FutureWarning: Pass the following variables as keyword args: x, y. From version 0.12, the only valid positional argument will be `data`, and passing other arguments without an explicit keyword will result in an error or misinterpretation.\n",
      "  warnings.warn(\n"
     ]
    },
    {
     "data": {
      "text/plain": [
       "<AxesSubplot:>"
      ]
     },
     "execution_count": 92,
     "metadata": {},
     "output_type": "execute_result"
    },
    {
     "data": {
      "image/png": "[encoded data removed]",
      "text/plain": [
       "<Figure size 432x288 with 1 Axes>"
      ]
     },
     "metadata": {
      "needs_background": "light"
     },
     "output_type": "display_data"
    }
   ],
   "source": [
    "sns.barplot(models,np.array(f1)-min(f1))"
   ]
  },
  {
   "cell_type": "markdown",
   "id": "0bc47fe1",
   "metadata": {},
   "source": [
    "### Inference 4\n",
    "<br>\n",
    "<div style=\"text-align: justify; font-size: 16px\">\n",
    "From plot 2 it is evident that XGBoost performs the best in terms of F1 Score, followed by Random Forest, Decision Tree and Logistic Regression.\n",
    "    </div>"
   ]
  },
  {
   "cell_type": "markdown",
   "id": "32b295d7",
   "metadata": {},
   "source": [
    "## <a id=\"Conclusion\"> Conclusion </a>\n",
    "<br>\n",
    "<div style=\"text-align: justify; font-size: 16px\">\n",
    "For this particular problem we see that in general XGBoost Classifier performs the best followed by Random Forest, Decision Tree and Logistic Regression. This is evident from the various metrics we have calculated so far. The way we choose a model is often determined by several factors such as their performance metrics, computation time, scalability, etcetera. In general, XGBoost Classifiers are very easy to implement, scale and consumes less time for computation as they can easily be parallised. Considering all these factors, XGBoost is probably the best model for this particular problem. \n",
    "    </div>"
   ]
  },
  {
   "cell_type": "markdown",
   "id": "ce752b46",
   "metadata": {},
   "source": [
    "## <a id=\"Ref\">References</a>"
   ]
  },
  {
   "cell_type": "markdown",
   "id": "1c644475",
   "metadata": {},
   "source": [
    "[1] https://scikit-learn.org/stable/modules/generated/sklearn.linear_model.LogisticRegression.html </br>\n",
    "[2] https://scikit-learn.org/stable/modules/tree.html#classification </br>\n",
    "[3] https://www.ibm.com/cloud/learn/random-forest </br>\n",
    "[4] https://www.nvidia.com/en-us/glossary/data-science/xgboost/ </br>\n",
    "[5] https://en.wikipedia.org/wiki/Confusion_matrix </br>\n",
    "[6] https://scikit-learn.org/stable/modules/generated/sklearn.metrics.accuracy_score.html </br>\n",
    "[7] https://scikit-learn.org/stable/modules/generated/sklearn.metrics.roc_auc_score.html </br>\n",
    "[8] https://scikit-learn.org/stable/modules/generated/sklearn.metrics.log_loss.html </br>\n",
    "[9] https://en.wikipedia.org/wiki/F-score </br>\n",
    "[10] https://scikit-learn.org/stable/modules/generated/sklearn.metrics.f1_score.html </br>"
   ]
  }
 ],
 "metadata": {
  "kernelspec": {
   "display_name": "Python 3 (ipykernel)",
   "language": "python",
   "name": "python3"
  },
  "language_info": {
   "codemirror_mode": {
    "name": "ipython",
    "version": 3
   },
   "file_extension": ".py",
   "mimetype": "text/x-python",
   "name": "python",
   "nbconvert_exporter": "python",
   "pygments_lexer": "ipython3",
   "version": "3.9.12"
  }
 },
 "nbformat": 4,
 "nbformat_minor": 5
}
